{
 "cells": [
  {
   "cell_type": "code",
   "execution_count": 1,
   "id": "16665219-bb25-49ae-a433-dcdd4f3bb378",
   "metadata": {},
   "outputs": [
    {
     "name": "stdout",
     "output_type": "stream",
     "text": [
      "Requirement already satisfied: flask-ngrok in c:\\users\\dharahasa\\anaconda3\\lib\\site-packages (0.0.25)\n",
      "Requirement already satisfied: flask in c:\\users\\dharahasa\\anaconda3\\lib\\site-packages (3.0.3)\n",
      "Requirement already satisfied: joblib in c:\\users\\dharahasa\\anaconda3\\lib\\site-packages (1.4.2)\n",
      "Requirement already satisfied: requests in c:\\users\\dharahasa\\anaconda3\\lib\\site-packages (from flask-ngrok) (2.32.3)\n",
      "Requirement already satisfied: Werkzeug>=3.0.0 in c:\\users\\dharahasa\\anaconda3\\lib\\site-packages (from flask) (3.0.3)\n",
      "Requirement already satisfied: Jinja2>=3.1.2 in c:\\users\\dharahasa\\anaconda3\\lib\\site-packages (from flask) (3.1.4)\n",
      "Requirement already satisfied: itsdangerous>=2.1.2 in c:\\users\\dharahasa\\anaconda3\\lib\\site-packages (from flask) (2.2.0)\n",
      "Requirement already satisfied: click>=8.1.3 in c:\\users\\dharahasa\\anaconda3\\lib\\site-packages (from flask) (8.1.7)\n",
      "Requirement already satisfied: blinker>=1.6.2 in c:\\users\\dharahasa\\anaconda3\\lib\\site-packages (from flask) (1.6.2)\n",
      "Requirement already satisfied: colorama in c:\\users\\dharahasa\\anaconda3\\lib\\site-packages (from click>=8.1.3->flask) (0.4.6)\n",
      "Requirement already satisfied: MarkupSafe>=2.0 in c:\\users\\dharahasa\\anaconda3\\lib\\site-packages (from Jinja2>=3.1.2->flask) (2.1.3)\n",
      "Requirement already satisfied: charset-normalizer<4,>=2 in c:\\users\\dharahasa\\anaconda3\\lib\\site-packages (from requests->flask-ngrok) (3.3.2)\n",
      "Requirement already satisfied: idna<4,>=2.5 in c:\\users\\dharahasa\\anaconda3\\lib\\site-packages (from requests->flask-ngrok) (3.7)\n",
      "Requirement already satisfied: urllib3<3,>=1.21.1 in c:\\users\\dharahasa\\anaconda3\\lib\\site-packages (from requests->flask-ngrok) (2.2.3)\n",
      "Requirement already satisfied: certifi>=2017.4.17 in c:\\users\\dharahasa\\anaconda3\\lib\\site-packages (from requests->flask-ngrok) (2025.4.26)\n"
     ]
    },
    {
     "name": "stderr",
     "output_type": "stream",
     "text": [
      "\n",
      "[notice] A new release of pip is available: 25.0.1 -> 25.1.1\n",
      "[notice] To update, run: python.exe -m pip install --upgrade pip\n"
     ]
    }
   ],
   "source": [
    "!pip install flask-ngrok flask joblib\n"
   ]
  },
  {
   "cell_type": "code",
   "execution_count": 7,
   "id": "eddac2c2-b7e3-4342-a878-529cba41cf9e",
   "metadata": {},
   "outputs": [],
   "source": [
    "from flask import Flask, request, jsonify\n",
    "import joblib"
   ]
  },
  {
   "cell_type": "code",
   "execution_count": 9,
   "id": "36f82419-3ca4-4652-9e46-1155d7c678b2",
   "metadata": {},
   "outputs": [],
   "source": [
    "\n",
    "app = Flask(__name__)"
   ]
  },
  {
   "cell_type": "code",
   "execution_count": 11,
   "id": "37e31455-6e70-46bd-b9eb-a5ccbd0f92f0",
   "metadata": {},
   "outputs": [],
   "source": [
    "model = joblib.load(\"ipl_model.pkl\")"
   ]
  },
  {
   "cell_type": "code",
   "execution_count": 13,
   "id": "6c9a37e0-b5d3-4a24-8fc1-f768e37554c5",
   "metadata": {},
   "outputs": [],
   "source": [
    "@app.route('/predict', methods=['POST'])\n",
    "def predict():\n",
    "    data = request.get_json()\n",
    "    team1 = int(data['team1'])\n",
    "    team2 = int(data['team2'])\n",
    "    prediction = model.predict([[team1, team2]])\n",
    "    return jsonify({'predicted_winner': int(prediction[0])})"
   ]
  },
  {
   "cell_type": "code",
   "execution_count": null,
   "id": "e53036c6-29b8-45df-8ee6-8ca0de5bd940",
   "metadata": {},
   "outputs": [
    {
     "name": "stdout",
     "output_type": "stream",
     "text": [
      " * Serving Flask app '__main__'\n",
      " * Debug mode: off\n"
     ]
    },
    {
     "name": "stderr",
     "output_type": "stream",
     "text": [
      "WARNING: This is a development server. Do not use it in a production deployment. Use a production WSGI server instead.\n",
      " * Running on http://127.0.0.1:5000\n",
      "Press CTRL+C to quit\n",
      "C:\\Users\\Dharahasa\\anaconda3\\Lib\\site-packages\\sklearn\\base.py:493: UserWarning: X does not have valid feature names, but RandomForestClassifier was fitted with feature names\n",
      "  warnings.warn(\n",
      "127.0.0.1 - - [08/May/2025 13:37:45] \"POST /predict HTTP/1.1\" 200 -\n",
      "C:\\Users\\Dharahasa\\anaconda3\\Lib\\site-packages\\sklearn\\base.py:493: UserWarning: X does not have valid feature names, but RandomForestClassifier was fitted with feature names\n",
      "  warnings.warn(\n",
      "127.0.0.1 - - [08/May/2025 13:47:17] \"POST /predict HTTP/1.1\" 200 -\n"
     ]
    }
   ],
   "source": [
    "if __name__ == '__main__':\n",
    "    app.run(port=5000)"
   ]
  }
 ],
 "metadata": {
  "kernelspec": {
   "display_name": "Python [conda env:base] *",
   "language": "python",
   "name": "conda-base-py"
  },
  "language_info": {
   "codemirror_mode": {
    "name": "ipython",
    "version": 3
   },
   "file_extension": ".py",
   "mimetype": "text/x-python",
   "name": "python",
   "nbconvert_exporter": "python",
   "pygments_lexer": "ipython3",
   "version": "3.12.7"
  }
 },
 "nbformat": 4,
 "nbformat_minor": 5
}
